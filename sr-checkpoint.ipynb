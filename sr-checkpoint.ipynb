{
 "cells": [
  {
   "cell_type": "code",
   "execution_count": 1,
   "metadata": {},
   "outputs": [],
   "source": [
    "import numpy as np\n",
    "import math\n",
    "import matplotlib.pyplot as plt"
   ]
  },
  {
   "cell_type": "code",
   "execution_count": 2,
   "metadata": {},
   "outputs": [],
   "source": [
    "def code (x,y, XL, YB, XR, YT):\n",
    "    code1=0\n",
    "    if (x<XL):\n",
    "        code1=code1 | 1000\n",
    "    if (y<YB):\n",
    "        code1=code1 | 1\n",
    "    if (x>XR):\n",
    "        code1=code1 | 10\n",
    "    if (y>YT):\n",
    "        code1=code1 | 100\n",
    "    return code1"
   ]
  },
  {
   "cell_type": "code",
   "execution_count": 3,
   "metadata": {},
   "outputs": [],
   "source": [
    "def midvtx(x1, x2, y1, y2, XL, YB, XR, YT):\n",
    "    c1 = code(x1, y1, XL, YB, XR, YT)\n",
    "    c2 = code(x2, y2, XL, YB, XR, YT)\n",
    "    xc, yc = False\n",
    "    change = False\n",
    "    while (c1&c2==0) and (c1|c1>0):\n",
    "        xc2 = int((x1+xc)/2)\n",
    "        yc2 = int((y1+yc)/2)\n",
    "        if (np.abs(xc2-x1)<=1) and (np.abs(yc2-y1)<=1):\n",
    "            x1, y1 = xc, yc\n",
    "            c1 = code(x1, y1, XL, YB, XR, YT)\n",
    "            change = not change\n",
    "            x1, x2 = x2, x1\n",
    "            y1, y2 = y2, y1\n",
    "            c1, c2 = c2, c1\n",
    "            xc, yc = x2, y2\n",
    "            continue\n",
    "        c = code(xc2, yc2, XL, YB, XR, YT)\n",
    "        if c>0:\n",
    "            x1, y1 = xc2, yc2\n",
    "            c1 = code(x1, y1, XL, YB, XR, YT)\n",
    "        else:\n",
    "            xc, yc = xc2, yc2\n",
    "        if change:\n",
    "            x1, x2 = x2, x1\n",
    "            y1, y2 = y2, y1\n",
    "            c1, c2 = c2, c1\n",
    "        if (c1|c2)==0:\n",
    "            return x1, y1, x2, y2\n",
    "        else:\n",
    "            return None"
   ]
  },
  {
   "cell_type": "code",
   "execution_count": null,
   "metadata": {},
   "outputs": [],
   "source": [
    "w, h = 256, 256 # Ширина и высота рисунка\n",
    "arrPic1 = np.zeros((w, h), dtype = np.uint8)\n",
    "arrPic2 = np.zeros((w, h), dtype = np.uint8)\n",
    "x1 = 0\n",
    "y1 = 1\n",
    "x2 = 12\n",
    "y2 = 4\n",
    "x3 = 39\n",
    "y3 = 12\n",
    "dx = 0.1\n",
    "xe1 = h-1\n",
    "ye1 = \n",
    "a1 = 2\n",
    "a2 = 0.4\n",
    "a3 = -5\n",
    "while x<xe:\n",
    "    "
   ]
  }
 ],
 "metadata": {
  "kernelspec": {
   "display_name": "Python 3",
   "language": "python",
   "name": "python3"
  },
  "language_info": {
   "codemirror_mode": {
    "name": "ipython",
    "version": 3
   },
   "file_extension": ".py",
   "mimetype": "text/x-python",
   "name": "python",
   "nbconvert_exporter": "python",
   "pygments_lexer": "ipython3",
   "version": "3.7.4"
  }
 },
 "nbformat": 4,
 "nbformat_minor": 2
}
