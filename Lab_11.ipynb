{
 "cells": [
  {
   "cell_type": "code",
   "execution_count": 1,
   "metadata": {},
   "outputs": [],
   "source": [
    "import pandas as pd, re\n",
    "import multiprocessing, time\n",
    "import gensim\n",
    "from gensim.models import Word2Vec\n",
    "import random"
   ]
  },
  {
   "cell_type": "code",
   "execution_count": 2,
   "metadata": {},
   "outputs": [
    {
     "name": "stdout",
     "output_type": "stream",
     "text": [
      "Время создания word2vec-модели: 36.0\n",
      "word2vec-модель записана в файл w2v.model\n"
     ]
    }
   ],
   "source": [
    "def preprocess_s(s):\n",
    "    s = s.lower()\n",
    "    s = s.replace('ё', 'е')\n",
    "    s = re.sub('[^а-я]', ' ', s)\n",
    "    s = re.sub(' +', ' ', s)\n",
    "    return s.strip()\n",
    "fn_wv = 'w2v.model'\n",
    "corp = pd.read_json('corp.json', encoding = 'utf_8')\n",
    "data = [] # Cписок предложений, предложение - список слов\n",
    "for cont in corp.content:\n",
    "    cont = re.sub('[;:!?]', '.', cont)\n",
    "    sens = cont.split('.')\n",
    "    for sen in sens:\n",
    "        sen = preprocess_s(sen)\n",
    "        if len(sen) > 0:\n",
    "            words = sen.split()\n",
    "            data.append(words) # len(data) = 9487\n",
    "size, window, min_cnt, sg = 50, 2, 2, 0 # Используем модель CBOW\n",
    "workers = multiprocessing.cpu_count()\n",
    "n_iter = 150\n",
    "t0 = time.time()\n",
    "wv_model = Word2Vec(data, size = size, window = window, min_count = min_cnt,\n",
    "                    sg = sg, workers = workers, iter = n_iter)\n",
    "print('Время создания word2vec-модели:', round(time.time() - t0, 0))\n",
    "print('word2vec-модель записана в файл', fn_wv)\n",
    "wv_model.save(fn_wv)"
   ]
  },
  {
   "cell_type": "code",
   "execution_count": 14,
   "metadata": {},
   "outputs": [
    {
     "name": "stdout",
     "output_type": "stream",
     "text": [
      "Создание word2vec-модели по файлу corp.txt\n",
      "Время создания word2vec-модели: 48.0\n",
      "word2vec-модель записана в файл w2v1.model\n"
     ]
    }
   ],
   "source": [
    "fn_t = 'corp.txt'\n",
    "fn_wv = 'w2v1.model'\n",
    "print('Создание word2vec-модели по файлу', fn_t)\n",
    "data = gensim.models.word2vec.LineSentence(fn_t) # <class 'gensim.models.word2vec.LineSentence'>\n",
    "size = 50\n",
    "window = 2\n",
    "min_cnt = 2\n",
    "sg = 0 # Используем модель CBOW\n",
    "workers = multiprocessing.cpu_count()\n",
    "n_iter = 150\n",
    "t0 = time.time()\n",
    "wv_model = Word2Vec(data, size = size, window = window, min_count = min_cnt,\n",
    "                    sg = sg, workers = workers, iter = n_iter)\n",
    "print('Время создания word2vec-модели:', round(time.time() - t0, 0))\n",
    "print('word2vec-модель записана в файл', fn_wv)\n",
    "wv_model.save(fn_wv)"
   ]
  },
  {
   "cell_type": "code",
   "execution_count": 16,
   "metadata": {},
   "outputs": [
    {
     "name": "stdout",
     "output_type": "stream",
     "text": [
      "Создание word2vec-модели по файлу corp.txt\n",
      "Время создания word2vec-модели: 47.0\n",
      "word2vec-модель записана в файл w2v2.model\n"
     ]
    }
   ],
   "source": [
    "fn_t = 'corp.txt'\n",
    "fn_wv1 = 'w2v2.model'\n",
    "print('Создание word2vec-модели по файлу', fn_t)\n",
    "data = gensim.models.word2vec.LineSentence(fn_t) # <class 'gensim.models.word2vec.LineSentence'>\n",
    "size = 75\n",
    "window = 2\n",
    "min_cnt = 2\n",
    "sg = 0 # Используем модель CBOW\n",
    "workers = multiprocessing.cpu_count()\n",
    "n_iter = 150\n",
    "t0 = time.time()\n",
    "wv_model = Word2Vec(data, size = size, window = window, min_count = min_cnt,\n",
    "                    sg = sg, workers = workers, iter = n_iter)\n",
    "print('Время создания word2vec-модели:', round(time.time() - t0, 0))\n",
    "print('word2vec-модель записана в файл', fn_wv1)\n",
    "wv_model.save(fn_wv1)"
   ]
  },
  {
   "cell_type": "code",
   "execution_count": 40,
   "metadata": {},
   "outputs": [
    {
     "name": "stdout",
     "output_type": "stream",
     "text": [
      "Число строк (предложений) в корпусе: 9487\n",
      "Всего слов в корпусе: 94987\n",
      "Размер словаря: 9365\n",
      "Слова страстное нет в словаре\n",
      "Слова пленилось нет в словаре\n",
      "Слова пролетело нет в словаре\n",
      "Слова живал нет в словаре\n",
      "Слова попевал нет в словаре\n",
      "Слова балах нет в словаре\n",
      "Слова гуляньях нет в словаре\n",
      "Слова воксалах нет в словаре\n",
      "Слова амуру нет в словаре\n",
      "Слова карикатуру нет в словаре\n",
      "Слова женской нет в словаре\n",
      "Слова катонов нет в словаре\n",
      "Слова миловидной нет в словаре\n",
      "Слова жрицы нет в словаре\n",
      "Слова признаюся нет в словаре\n",
      "Слова полонен нет в словаре\n",
      "Слова стыжуся нет в словаре\n",
      "Слова женски нет в словаре\n",
      "Model Accuracy =  0.02238887909334153\n"
     ]
    }
   ],
   "source": [
    "wv_model = Word2Vec.load('w2v2.model') # Загрузка word2vec-модели\n",
    "wv = wv_model.wv # wv – индексированные векторы слов\n",
    "print('Число строк (предложений) в корпусе:', wv_model.corpus_count) # 9487\n",
    "print('Всего слов в корпусе:', wv_model.corpus_total_words) # 94987\n",
    "print('Размер словаря:', len(wv.vocab)) # 9365\n",
    "# Прогноз центрального слова, заданного списком слов контекста\n",
    "fn_t=open('corp.txt','r',encoding='utf-8')\n",
    "acc = 0\n",
    "i = 0\n",
    "for sen in fn_t:\n",
    "    acc += model_accuracy(wv, sen)\n",
    "    i+=1\n",
    "    if i>10:\n",
    "        break\n",
    "print(\"Model Accuracy = \", acc)"
   ]
  },
  {
   "cell_type": "code",
   "execution_count": 41,
   "metadata": {},
   "outputs": [
    {
     "name": "stdout",
     "output_type": "stream",
     "text": [
      "Число строк (предложений) в корпусе: 9487\n",
      "Всего слов в корпусе: 94987\n",
      "Размер словаря: 9365\n",
      "Слова страстное нет в словаре\n",
      "Слова пленилось нет в словаре\n",
      "Слова пролетело нет в словаре\n",
      "Слова живал нет в словаре\n",
      "Слова попевал нет в словаре\n",
      "Слова балах нет в словаре\n",
      "Слова гуляньях нет в словаре\n",
      "Слова воксалах нет в словаре\n",
      "Слова амуру нет в словаре\n",
      "Слова карикатуру нет в словаре\n",
      "Слова женской нет в словаре\n",
      "Слова катонов нет в словаре\n",
      "Слова миловидной нет в словаре\n",
      "Слова жрицы нет в словаре\n",
      "Слова признаюся нет в словаре\n",
      "Слова полонен нет в словаре\n",
      "Слова стыжуся нет в словаре\n",
      "Слова женски нет в словаре\n",
      "Model Accuracy =  0.024439435335807502\n"
     ]
    }
   ],
   "source": [
    "wv_model = Word2Vec.load('w2v1.model') # Загрузка word2vec-модели\n",
    "wv = wv_model.wv # wv – индексированные векторы слов\n",
    "print('Число строк (предложений) в корпусе:', wv_model.corpus_count) # 9487\n",
    "print('Всего слов в корпусе:', wv_model.corpus_total_words) # 94987\n",
    "print('Размер словаря:', len(wv.vocab)) # 9365\n",
    "# Прогноз центрального слова, заданного списком слов контекста\n",
    "fn_t=open('corp.txt','r',encoding='utf-8')\n",
    "acc = 0\n",
    "i = 0\n",
    "for sen in fn_t:\n",
    "    acc += model_accuracy(wv, sen)\n",
    "    i+=1\n",
    "    if i>10:\n",
    "        break\n",
    "print(\"Model Accuracy = \", acc)"
   ]
  },
  {
   "cell_type": "code",
   "execution_count": 36,
   "metadata": {},
   "outputs": [],
   "source": [
    "def model_accuracy(wv, sen):\n",
    "    sen = sen.split()\n",
    "    sen1 = []\n",
    "    cent = int(len(sen)/2)\n",
    "    for i in range(len(sen)):\n",
    "        if wv.vocab.get(sen[i]) is None:\n",
    "            print('Слова', sen[i], 'нет в словаре')\n",
    "        if i!=cent:\n",
    "            sen1.append(sen[i])\n",
    "    tn = 5\n",
    "    acc = 1\n",
    "    acc_found = False\n",
    "    while not acc_found:\n",
    "        pred_words = wv_model.predict_output_word(sen1, topn = tn)\n",
    "        for w in pred_words:\n",
    "            if w[0] == sen[cent]:\n",
    "                acc = w[1]\n",
    "                acc_found = True\n",
    "                break\n",
    "        if tn>=50:\n",
    "            acc = 0\n",
    "            break\n",
    "        tn+=5\n",
    "    return acc"
   ]
  },
  {
   "cell_type": "code",
   "execution_count": 18,
   "metadata": {},
   "outputs": [
    {
     "name": "stdout",
     "output_type": "stream",
     "text": [
      " случилось ж что ж что ж что ж да\n"
     ]
    }
   ],
   "source": [
    "wv_model = Word2Vec.load('w2v1.model') # Загрузка word2vec-модели\n",
    "wv = wv_model.wv # wv – индексированные векторы слов\n",
    "fn_t=open('corp.txt','r',encoding='utf-8')\n",
    "\n",
    "text = \"\"\n",
    "notinwoc = True\n",
    "for sen in fn_t:\n",
    "    #sen = random.choice(fn_t.read())\n",
    "    sen = sen.split()\n",
    "    sen1 = []\n",
    "    #cent = int(len(sen)/2)\n",
    "    found_niv = False\n",
    "    for i in range(len(sen)):\n",
    "        if wv.vocab.get(sen[i]) is None:\n",
    "            found_niv = True\n",
    "            break\n",
    "        #if i!=cent:\n",
    "        sen1.append(sen[i])\n",
    "    if not found_niv:\n",
    "        break\n",
    "for i in range (25):\n",
    "    pred_words = wv_model.predict_output_word(sen1, topn = 5)\n",
    "    word = pred_words[0][0]\n",
    "    for w in pred_words:\n",
    "        if (word!=sen1[len(sen1)-1]):\n",
    "            sen1.append(word)\n",
    "            text+=\" \"+word\n",
    "            break\n",
    "print(text)"
   ]
  },
  {
   "cell_type": "code",
   "execution_count": 4,
   "metadata": {},
   "outputs": [
    {
     "data": {
      "text/plain": [
       "_io.TextIOWrapper"
      ]
     },
     "execution_count": 4,
     "metadata": {},
     "output_type": "execute_result"
    }
   ],
   "source": [
    "type(fn_t)"
   ]
  }
 ],
 "metadata": {
  "kernelspec": {
   "display_name": "Python 3",
   "language": "python",
   "name": "python3"
  },
  "language_info": {
   "codemirror_mode": {
    "name": "ipython",
    "version": 3
   },
   "file_extension": ".py",
   "mimetype": "text/x-python",
   "name": "python",
   "nbconvert_exporter": "python",
   "pygments_lexer": "ipython3",
   "version": "3.7.4"
  }
 },
 "nbformat": 4,
 "nbformat_minor": 2
}
